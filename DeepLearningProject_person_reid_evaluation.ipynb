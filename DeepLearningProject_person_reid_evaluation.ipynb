{
  "nbformat": 4,
  "nbformat_minor": 0,
  "metadata": {
    "colab": {
      "name": "DeepLearningProject.ipynb",
      "provenance": [],
      "collapsed_sections": [],
      "include_colab_link": true
    },
    "kernelspec": {
      "name": "python3",
      "display_name": "Python 3.8.10 64-bit ('pytorch': conda)"
    },
    "language_info": {
      "name": "python",
      "version": "3.8.10",
      "mimetype": "text/x-python",
      "codemirror_mode": {
        "name": "ipython",
        "version": 3
      },
      "pygments_lexer": "ipython3",
      "nbconvert_exporter": "python",
      "file_extension": ".py"
    },
    "interpreter": {
      "hash": "fb220023fd2800431fe98a81f852d0ad5fc6056086b92ba5142182fcc04964c6"
    },
    "accelerator": "GPU"
  },
  "cells": [
    {
      "cell_type": "markdown",
      "metadata": {
        "id": "view-in-github",
        "colab_type": "text"
      },
      "source": [
        "<a href=\"https://colab.research.google.com/github/dadebulba/DeepLearningProject/blob/main/DeepLearningProject_person_reid_evaluation.ipynb\" target=\"_parent\"><img src=\"https://colab.research.google.com/assets/colab-badge.svg\" alt=\"Open In Colab\"/></a>"
      ]
    },
    {
      "cell_type": "markdown",
      "metadata": {
        "id": "W6jMA8w_8oOH"
      },
      "source": [
        "# Deep Learning Project - Person Re-identification task evaluation\n",
        "\n",
        "[https://colab.research.google.com/github/dadebulba/DeepLearningProject/blob/main/DeepLearningProject_person_reid_evaluation.ipynb](https://colab.research.google.com/github/dadebulba/DeepLearningProject/blob/main/DeepLearningProject_person_reid_evaluation.ipynb)"
      ]
    },
    {
      "cell_type": "markdown",
      "metadata": {
        "id": "tM3c4xWtqiDo"
      },
      "source": [
        "Importing from Google Drive the dataset.zip and extract into dataset folder, change the path with your dataset location"
      ]
    },
    {
      "cell_type": "code",
      "metadata": {
        "id": "CaPQ91Z78oOI"
      },
      "source": [
        "from google.colab import drive\n",
        "drive.mount('/content/drive')\n",
        "!unzip \"/content/drive/MyDrive/UNITN/5° anno/Deep Learning 2021/dataset.zip\" -d dataset"
      ],
      "execution_count": null,
      "outputs": []
    },
    {
      "cell_type": "markdown",
      "metadata": {
        "id": "jg8kbiHv8oOL"
      },
      "source": [
        "importing necessary libraries"
      ]
    },
    {
      "cell_type": "code",
      "metadata": {
        "id": "NUDHglK08oOM"
      },
      "source": [
        "import torch\n",
        "import torchvision\n",
        "import torch.nn as nn\n",
        "import torch.nn.functional as F\n",
        "import torchvision.transforms as T\n",
        "import pandas as pd\n",
        "from skimage import io, transform\n",
        "import numpy as np\n",
        "import matplotlib.pyplot as plt\n",
        "from torchvision import transforms, utils\n",
        "from torch.utils.data import Dataset, DataLoader\n",
        "import os\n",
        "from os import listdir\n",
        "from os.path import isfile, join\n",
        "from torch.utils.tensorboard import SummaryWriter\n",
        "from PIL import Image\n",
        "import random\n",
        "random.seed(10)\n",
        "# print cuda info\n",
        "print(f\"Cuda available: {torch.cuda.is_available()}\")\n",
        "print(f\"Cuda device count: {torch.cuda.device_count()}\")"
      ],
      "execution_count": null,
      "outputs": []
    },
    {
      "cell_type": "markdown",
      "metadata": {
        "id": "WwZMA17l8oOX"
      },
      "source": [
        "## Define Siamese Network\n",
        "This step is used to load the saved model and use it during evaluation "
      ]
    },
    {
      "cell_type": "code",
      "metadata": {
        "id": "9__1oD_z8oOX"
      },
      "source": [
        "class Identity(nn.Module):\n",
        "  \"\"\"Identity layer to use into network\"\"\"\n",
        "  def __init__(self):\n",
        "      super(Identity, self).__init__()\n",
        "      \n",
        "  def forward(self, x):\n",
        "      return x\n",
        "\n",
        "class Siamese(nn.Module):\n",
        "  \"\"\"Siamese network using two resnet-50 as branches\"\"\"\n",
        "  \"\"\"\n",
        "  Args:\n",
        "    resnet: trained resnet-50\n",
        "  \"\"\"\n",
        "  def __init__(self, resnet):\n",
        "      super(Siamese, self).__init__()\n",
        "      self.resnet = resnet\n",
        "      self.resnet.fc = Identity()\n",
        "      self.linear = torch.nn.Sequential(\n",
        "        torch.nn.Linear(in_features=2048, out_features=1024),\n",
        "        torch.nn.Linear(in_features=1024, out_features=512),\n",
        "        torch.nn.Sigmoid()\n",
        "      )\n",
        "  \"\"\"\n",
        "  Returns: resulting tensor from input inference into one branch of siamese\n",
        "  Args:\n",
        "    x: input image\n",
        "  \"\"\"\n",
        "  def forward_one(self, x):\n",
        "      x = self.resnet(x)\n",
        "      x = x.view(x.size()[0], -1)\n",
        "      x = self.linear(x)\n",
        "      return x\n",
        "  \"\"\"\n",
        "  Returns: resulting tensors from input inference into siamese\n",
        "  Args:\n",
        "    x1: input image1\n",
        "    x2: input image2\n",
        "  \"\"\"\n",
        "  def forward(self, x1, x2):\n",
        "      out1 = self.forward_one(x1)\n",
        "      out2 = self.forward_one(x2)\n",
        "      return out1, out2\n",
        "\n",
        "'''\n",
        "Returns: fine tuned resnet-50\n",
        "Args:\n",
        "  num_classes: number of classes in the dataset.\n",
        "               This is equal to the number of output neurons.\n",
        "'''\n",
        "def initialize_resnet(num_classes):\n",
        "  #load pre-trained resnet\n",
        "  resnet = torchvision.models.resnet50(pretrained=True)\n",
        "  num_features = resnet.fc.in_features\n",
        "  resnet.fc = torch.nn.Sequential(\n",
        "    torch.nn.Linear(in_features=num_features, out_features=1024),\n",
        "    torch.nn.Linear(in_features=1024, out_features=512),\n",
        "    torch.nn.Linear(in_features=512, out_features=num_classes),\n",
        "    torch.nn.Sigmoid()\n",
        "  )\n",
        "\n",
        "  return resnet"
      ],
      "execution_count": 4,
      "outputs": []
    },
    {
      "cell_type": "code",
      "metadata": {
        "id": "fINP--L08oOQ"
      },
      "source": [
        "class PeopleValidationDataset(Dataset):\n",
        "    \"\"\"People training dataset containing tuple of images with corresponding similarity value.\"\"\"\n",
        "\n",
        "    def __init__(self, X1, X2, root_dir, transform):\n",
        "        \"\"\"\n",
        "        Args:\n",
        "            X1: first list of image names\n",
        "            X2: first list of image names\n",
        "            root_dir: folder where to find the images to load\n",
        "            transform (optional): Optional transform to be applied on a sample.\n",
        "        \"\"\"\n",
        "        self.transform = transform\n",
        "        self.X1 = X1\n",
        "        self.X2 = X2\n",
        "        self.root_dir = root_dir\n",
        "\n",
        "    def __len__(self):\n",
        "        return len(self.X1)\n",
        "\n",
        "    def __getitem__(self, idx):\n",
        "        if torch.is_tensor(idx):\n",
        "            idx = idx.tolist()\n",
        "\n",
        "        img_name1 = self.X1[idx]\n",
        "        img_name2 = self.X2[idx]\n",
        "\n",
        "        image1 = Image.open(\"%s/%s\" % (self.root_dir, img_name1))\n",
        "        image2 = Image.open(\"%s/%s\" % (self.root_dir, img_name2))\n",
        "        if self.transform != None:\n",
        "          image1 = self.transform(image1)\n",
        "          image2 = self.transform(image2)\n",
        "        else:\n",
        "          image1 = T.ToTensor()(image1)\n",
        "          image2 = T.ToTensor()(image2)\n",
        "        image1 = F.interpolate(image1, size=128)  \n",
        "        image2 = F.interpolate(image2, size=128)  \n",
        "\n",
        "        sample = (image1, img_name1, image2, img_name2)\n",
        "        return sample"
      ],
      "execution_count": 5,
      "outputs": []
    },
    {
      "cell_type": "code",
      "metadata": {
        "id": "L_h1U46GZahd"
      },
      "source": [
        "\"\"\"\n",
        "Returns: \n",
        "  train_X1: first list of inputs used during training\n",
        "  train_X2: second list of inputs used during training\n",
        "  train_Y: similarity values for training inputs\n",
        "  val_X1: first list of inputs used during validation\n",
        "  val_X2: second list of inputs used during validation\n",
        "  val_Y: similarity values for validation inputs\n",
        "Input arguments\n",
        "  root_dir: directory containing the dataset images\n",
        "  val_rate (optional): percentage of images to put into validation set\n",
        "\"\"\"\n",
        "def split_training_data(root_dir, val_rate=0.03):\n",
        "  full_dataset_X1 = []\n",
        "  full_dataset_X2 = []\n",
        "  full_dataset_Y = []\n",
        "  img_files = [f for f in listdir(root_dir)]\n",
        "  img_files.sort()\n",
        "  if (len(img_files) % 2 != 0):\n",
        "    img_files = img_files[:-1]\n",
        "\n",
        "  for idx, img in enumerate(img_files):\n",
        "    if(idx % 2 == 0):\n",
        "      full_dataset_X1.append(img)\n",
        "    if(idx % 2 != 0):\n",
        "      full_dataset_X2.append(img)\n",
        "      if (int(full_dataset_X1[-1].split(\"_\")[0]) == int(full_dataset_X2[-1].split(\"_\")[0])):\n",
        "        full_dataset_Y.append(torch.tensor(1))\n",
        "      else:\n",
        "        full_dataset_Y.append(torch.tensor(0))\n",
        "\n",
        "  val_X1 = []\n",
        "  val_X2 = []\n",
        "  val_Y = []\n",
        "  train_X1 = []\n",
        "  train_X2 = []\n",
        "  train_Y = []\n",
        "  for idx, _ in enumerate(full_dataset_Y):\n",
        "    if (idx <= len(full_dataset_Y)*val_rate):\n",
        "      val_X1.append(full_dataset_X1[idx])\n",
        "      val_X2.append(full_dataset_X2[idx])\n",
        "      val_Y.append(full_dataset_Y[idx])\n",
        "    else:\n",
        "      train_X1.append(full_dataset_X1[idx])\n",
        "      train_X2.append(full_dataset_X2[idx])\n",
        "      train_Y.append(full_dataset_Y[idx])\n",
        "\n",
        "  return train_X1, train_X2, train_Y, val_X1, val_X2, val_Y\n",
        "\n",
        "\"\"\"\n",
        "Returns: \n",
        "  val_map: a map with image id as key and list of associated images as value\n",
        "Input arguments\n",
        "  val_X1: first list of inputs used during validation\n",
        "  val_X2: second list of inputs used during validation\n",
        "\"\"\"\n",
        "def build_val_map(val_X1, val_X2):\n",
        "  val_map = {}\n",
        "  for i in range(len(val_X1)):\n",
        "    if int(val_X1[i].split(\"_\")[0]) not in val_map:\n",
        "      val_map[int(val_X1[i].split(\"_\")[0])] = []\n",
        "    if int(val_X2[i].split(\"_\")[0]) not in val_map:\n",
        "      val_map[int(val_X2[i].split(\"_\")[0])] = []\n",
        "    val_map[int(val_X1[i].split(\"_\")[0])].append(val_X1[i])\n",
        "    val_map[int(val_X2[i].split(\"_\")[0])].append(val_X2[i])\n",
        "  for key in val_map:\n",
        "    val_map[key] = list(set(val_map[key]))\n",
        "  return val_map\n",
        "\n",
        "\"\"\"\n",
        "Returns: \n",
        "  val_loader: DataLoader used during evaluation\n",
        "Input arguments\n",
        "  img_root: directory containing the dataset images\n",
        "\"\"\"\n",
        "def get_data(img_root):\n",
        "\n",
        "  # Get splitted data\n",
        "  train_X1, train_X2, train_Y, val_X1, val_X2, val_Y = split_training_data(root_dir=img_root)\n",
        "  val_map = build_val_map(val_X1, val_X2)\n",
        "  val_merged =  list(set(val_X1 + val_X2))\n",
        "  print(len(val_map), len(val_merged))\n",
        "\n",
        "  val_X1 = []\n",
        "  for key in val_map:\n",
        "    val_X1 = val_X1 + [val_map[key][0] for i in range(len(val_merged))]\n",
        "  val_X2 = val_merged*len(val_map.keys())\n",
        "  print(len(val_X1), len(val_X2))\n",
        "  validation_data = PeopleValidationDataset(X1=val_X1,\n",
        "                                     X2=val_X2,\n",
        "                                     root_dir=img_root,\n",
        "                                     transform=None)\n",
        "\n",
        "  val_loader = torch.utils.data.DataLoader(validation_data, shuffle=False, num_workers=0) #before num_workers=4\n",
        "  \n",
        "  return val_loader"
      ],
      "execution_count": 6,
      "outputs": []
    },
    {
      "cell_type": "code",
      "metadata": {
        "id": "m2f-sc08Zd_p"
      },
      "source": [
        "def test(net, val_loader, threshold , device='cuda:0'):\n",
        "  predictions = {}\n",
        "  ground_truth = {}\n",
        "  net.eval() # Strictly needed if network contains layers which has different behaviours between train and test\n",
        "  with torch.no_grad():\n",
        "    dataiter = iter(val_loader)\n",
        "    i = 0\n",
        "    while True:\n",
        "      try:\n",
        "        x0, name0, x1, name1 = next(dataiter)\n",
        "        i+=1\n",
        "        if i % 5000 == 0:\n",
        "          print(\"Passed images:\", i)\n",
        "      except:\n",
        "        break\n",
        "      x0 = x0.to('cuda:0')\n",
        "      x1 = x1.to('cuda:0')\n",
        "      concatenated = torch.cat((x0,x1),0)\n",
        "\n",
        "      # Forward pass\n",
        "      output1, output2 = net.forward(x0, x1)\n",
        "      euclidean_distance = F.pairwise_distance(output1, output2)\n",
        "\n",
        "      if name0 not in ground_truth:\n",
        "        ground_truth[name0] = []\n",
        "      if (name0[0].split(\"_\")[0] == name1[0].split(\"_\")[0]):\n",
        "        ground_truth[name0].append(name1)\n",
        "\n",
        "      if name0 not in predictions:\n",
        "        predictions[name0] = []\n",
        "      if euclidean_distance.item() < threshold:\n",
        "        predictions[name0].append(name1)\n",
        "        \n",
        "\n",
        "  return predictions, ground_truth"
      ],
      "execution_count": 7,
      "outputs": []
    },
    {
      "cell_type": "code",
      "metadata": {
        "id": "5O965dfHZgBH"
      },
      "source": [
        "def evaluate_map(predictions, ground_truth):\n",
        "      '''\n",
        "      Computes the mAP (https://jonathan-hui.medium.com/map-mean-average-precision-for-object-detection-45c121a31173) of the predictions with respect to the given ground truth\n",
        "      In person reidentification mAP refers to the mean of the AP over all queries.\n",
        "      The AP for a query is the area under the precision-recall curve obtained from the list of predictions considering the\n",
        "      ground truth elements as positives and the other ones as negatives\n",
        "\n",
        "      :param predictions: dictionary from query filename to list of test image filenames associated with the query ordered\n",
        "                          from the most to the least confident prediction.\n",
        "                          Represents the predictions to be evaluated.\n",
        "      :param ground_truth: dictionary from query filename to set of test image filenames associated with the query\n",
        "                            Represents the ground truth on which to evaluate predictions.\n",
        "\n",
        "      :return:\n",
        "      '''\n",
        "\n",
        "      m_ap = 0.0\n",
        "      for current_ground_truth_query, current_ground_truth_query_set in ground_truth.items():\n",
        "\n",
        "          # No predictions were performed for the current query, AP = 0\n",
        "          if not current_ground_truth_query in predictions:\n",
        "              continue\n",
        "\n",
        "          current_ap = 0.0  # The area under the curve for the current sample\n",
        "          current_predictions_list = predictions[current_ground_truth_query]\n",
        "\n",
        "          # Recall increments of this quantity each time a new correct prediction is encountered in the prediction list\n",
        "          delta_recall = 1.0 / len(current_ground_truth_query_set)\n",
        "\n",
        "          # Goes through the list of predictions\n",
        "          encountered_positives = 0\n",
        "          for idx, current_prediction in enumerate(current_predictions_list):\n",
        "              # Each time a positive is encountered, compute the current precition and the area under the curve\n",
        "              # since the last positive\n",
        "              if current_prediction in current_ground_truth_query_set:\n",
        "                  encountered_positives += 1\n",
        "                  current_precision = encountered_positives / (idx + 1)\n",
        "                  current_ap += current_precision * delta_recall\n",
        "\n",
        "          m_ap += current_ap\n",
        "\n",
        "      # Compute mean over all queries\n",
        "      m_ap /= len(ground_truth)\n",
        "\n",
        "      return m_ap"
      ],
      "execution_count": 8,
      "outputs": []
    },
    {
      "cell_type": "code",
      "metadata": {
        "id": "QnndkhgI8oOb"
      },
      "source": [
        "# Logger for loss and accuracy at each step \n",
        "def log_values(writer, step, loss, prefix):\n",
        "  writer.add_scalar(f\"{prefix}/loss\", loss, step)\n",
        "\n",
        "def main(device='cuda:0', \n",
        "         img_root='./dataset',\n",
        "         model_root=\"/content/drive/MyDrive/UNITN/5° anno/Deep Learning 2021/models/siamese_15epoch_net_reid_resnet50_5epoch.pth\",\n",
        "         step=0.01,\n",
        "         num_step=20):\n",
        "\n",
        "  writer = SummaryWriter(log_dir=\"runs/exp4\")\n",
        "\n",
        "  # Get dataloader containing data to evaluate\n",
        "  val_loader = get_data(img_root=\"%s/train\" % (img_root))\n",
        "\n",
        "  # Instantiates the model\n",
        "  net = initialize_resnet(num_classes=56) # taken from previous trained resnet last layer number of neurons\n",
        "  net = Siamese(net)\n",
        "  net.load_state_dict(torch.load(model_root))\n",
        "  net.to(device)\n",
        "\n",
        "  prev_mAP = 0\n",
        "  # Starting from a threshold of 0 increase by step value for num_step, will stop at end of num_step or when mAP degrades\n",
        "  for i in [step*(j+1) for j in range(num_step)]:\n",
        "    predictions, ground_truth = test(net, val_loader, i)    \n",
        "    mAP = evaluate_map(predictions, ground_truth)\n",
        "    print(\"mAP for threshold %s is %s\" % (i, mAP))\n",
        "    if mAP < prev_mAP:\n",
        "      print(\"Performance degradation, breaking...\", mAP, prev_mAP)\n",
        "      break\n",
        "    prev_mAP = mAP"
      ],
      "execution_count": 16,
      "outputs": []
    },
    {
      "cell_type": "code",
      "metadata": {
        "id": "ppQx1-td8oOc"
      },
      "source": [
        "main()"
      ],
      "execution_count": null,
      "outputs": []
    }
  ]
}